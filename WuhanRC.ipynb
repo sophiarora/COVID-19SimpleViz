{
 "cells": [
  {
   "cell_type": "code",
   "execution_count": 1,
   "metadata": {
    "collapsed": true
   },
   "outputs": [],
   "source": [
    "import bs4 as bs\n",
    "import urllib.request"
   ]
  },
  {
   "cell_type": "code",
   "execution_count": 2,
   "metadata": {
    "collapsed": true
   },
   "outputs": [],
   "source": [
    "source_lst = ['http://www.wuhanrc.org.cn/info/1003/2687.htm',\n",
    "             'http://www.wuhanrc.org.cn/info/1003/2696.htm',\n",
    "             'http://www.wuhanrc.org.cn/info/1003/2700.htm',\n",
    "             'http://www.wuhanrc.org.cn/info/1003/2703.htm',\n",
    "             'http://www.wuhanrc.org.cn/info/1003/2704.htm',\n",
    "             'http://www.wuhanrc.org.cn/info/1003/2729.htm',\n",
    "             'http://www.wuhanrc.org.cn/info/1003/2737.htm',\n",
    "             'http://www.wuhanrc.org.cn/info/1003/2748.htm',\n",
    "             'http://www.wuhanrc.org.cn/info/1003/2752.htm',\n",
    "             'http://www.wuhanrc.org.cn/info/1003/2760.htm',\n",
    "             'http://www.wuhanrc.org.cn/info/1003/2764.htm']"
   ]
  },
  {
   "cell_type": "code",
   "execution_count": 3,
   "metadata": {},
   "outputs": [
    {
     "ename": "IncompleteRead",
     "evalue": "IncompleteRead(179762 bytes read, 293732 more expected)",
     "output_type": "error",
     "traceback": [
      "\u001b[0;31m---------------------------------------------------------------------------\u001b[0m",
      "\u001b[0;31mIncompleteRead\u001b[0m                            Traceback (most recent call last)",
      "\u001b[0;32m<ipython-input-3-63a09642ce66>\u001b[0m in \u001b[0;36m<module>\u001b[0;34m()\u001b[0m\n\u001b[1;32m      1\u001b[0m \u001b[0ms_lst\u001b[0m \u001b[0;34m=\u001b[0m \u001b[0;34m[\u001b[0m\u001b[0;34m]\u001b[0m\u001b[0;34m\u001b[0m\u001b[0m\n\u001b[1;32m      2\u001b[0m \u001b[0;32mfor\u001b[0m \u001b[0ms\u001b[0m \u001b[0;32min\u001b[0m \u001b[0msource_lst\u001b[0m\u001b[0;34m:\u001b[0m\u001b[0;34m\u001b[0m\u001b[0m\n\u001b[0;32m----> 3\u001b[0;31m     \u001b[0msource\u001b[0m \u001b[0;34m=\u001b[0m \u001b[0murllib\u001b[0m\u001b[0;34m.\u001b[0m\u001b[0mrequest\u001b[0m\u001b[0;34m.\u001b[0m\u001b[0murlopen\u001b[0m\u001b[0;34m(\u001b[0m\u001b[0ms\u001b[0m\u001b[0;34m)\u001b[0m\u001b[0;34m.\u001b[0m\u001b[0mread\u001b[0m\u001b[0;34m(\u001b[0m\u001b[0;34m)\u001b[0m\u001b[0;34m\u001b[0m\u001b[0m\n\u001b[0m\u001b[1;32m      4\u001b[0m     \u001b[0msoup\u001b[0m \u001b[0;34m=\u001b[0m \u001b[0mbs\u001b[0m\u001b[0;34m.\u001b[0m\u001b[0mBeautifulSoup\u001b[0m\u001b[0;34m(\u001b[0m\u001b[0msource\u001b[0m\u001b[0;34m,\u001b[0m\u001b[0;34m'html.parser'\u001b[0m\u001b[0;34m)\u001b[0m\u001b[0;34m\u001b[0m\u001b[0m\n\u001b[1;32m      5\u001b[0m     \u001b[0mtbl_row\u001b[0m \u001b[0;34m=\u001b[0m \u001b[0msoup\u001b[0m\u001b[0;34m.\u001b[0m\u001b[0mtable\u001b[0m\u001b[0;34m.\u001b[0m\u001b[0mfind_all\u001b[0m\u001b[0;34m(\u001b[0m\u001b[0;34m'tr'\u001b[0m\u001b[0;34m)\u001b[0m\u001b[0;34m\u001b[0m\u001b[0m\n",
      "\u001b[0;32m~/anaconda/envs/python3/lib/python3.5/http/client.py\u001b[0m in \u001b[0;36mread\u001b[0;34m(self, amt)\u001b[0m\n\u001b[1;32m    459\u001b[0m             \u001b[0;32melse\u001b[0m\u001b[0;34m:\u001b[0m\u001b[0;34m\u001b[0m\u001b[0m\n\u001b[1;32m    460\u001b[0m                 \u001b[0;32mtry\u001b[0m\u001b[0;34m:\u001b[0m\u001b[0;34m\u001b[0m\u001b[0m\n\u001b[0;32m--> 461\u001b[0;31m                     \u001b[0ms\u001b[0m \u001b[0;34m=\u001b[0m \u001b[0mself\u001b[0m\u001b[0;34m.\u001b[0m\u001b[0m_safe_read\u001b[0m\u001b[0;34m(\u001b[0m\u001b[0mself\u001b[0m\u001b[0;34m.\u001b[0m\u001b[0mlength\u001b[0m\u001b[0;34m)\u001b[0m\u001b[0;34m\u001b[0m\u001b[0m\n\u001b[0m\u001b[1;32m    462\u001b[0m                 \u001b[0;32mexcept\u001b[0m \u001b[0mIncompleteRead\u001b[0m\u001b[0;34m:\u001b[0m\u001b[0;34m\u001b[0m\u001b[0m\n\u001b[1;32m    463\u001b[0m                     \u001b[0mself\u001b[0m\u001b[0;34m.\u001b[0m\u001b[0m_close_conn\u001b[0m\u001b[0;34m(\u001b[0m\u001b[0;34m)\u001b[0m\u001b[0;34m\u001b[0m\u001b[0m\n",
      "\u001b[0;32m~/anaconda/envs/python3/lib/python3.5/http/client.py\u001b[0m in \u001b[0;36m_safe_read\u001b[0;34m(self, amt)\u001b[0m\n\u001b[1;32m    607\u001b[0m             \u001b[0mchunk\u001b[0m \u001b[0;34m=\u001b[0m \u001b[0mself\u001b[0m\u001b[0;34m.\u001b[0m\u001b[0mfp\u001b[0m\u001b[0;34m.\u001b[0m\u001b[0mread\u001b[0m\u001b[0;34m(\u001b[0m\u001b[0mmin\u001b[0m\u001b[0;34m(\u001b[0m\u001b[0mamt\u001b[0m\u001b[0;34m,\u001b[0m \u001b[0mMAXAMOUNT\u001b[0m\u001b[0;34m)\u001b[0m\u001b[0;34m)\u001b[0m\u001b[0;34m\u001b[0m\u001b[0m\n\u001b[1;32m    608\u001b[0m             \u001b[0;32mif\u001b[0m \u001b[0;32mnot\u001b[0m \u001b[0mchunk\u001b[0m\u001b[0;34m:\u001b[0m\u001b[0;34m\u001b[0m\u001b[0m\n\u001b[0;32m--> 609\u001b[0;31m                 \u001b[0;32mraise\u001b[0m \u001b[0mIncompleteRead\u001b[0m\u001b[0;34m(\u001b[0m\u001b[0;34mb''\u001b[0m\u001b[0;34m.\u001b[0m\u001b[0mjoin\u001b[0m\u001b[0;34m(\u001b[0m\u001b[0ms\u001b[0m\u001b[0;34m)\u001b[0m\u001b[0;34m,\u001b[0m \u001b[0mamt\u001b[0m\u001b[0;34m)\u001b[0m\u001b[0;34m\u001b[0m\u001b[0m\n\u001b[0m\u001b[1;32m    610\u001b[0m             \u001b[0ms\u001b[0m\u001b[0;34m.\u001b[0m\u001b[0mappend\u001b[0m\u001b[0;34m(\u001b[0m\u001b[0mchunk\u001b[0m\u001b[0;34m)\u001b[0m\u001b[0;34m\u001b[0m\u001b[0m\n\u001b[1;32m    611\u001b[0m             \u001b[0mamt\u001b[0m \u001b[0;34m-=\u001b[0m \u001b[0mlen\u001b[0m\u001b[0;34m(\u001b[0m\u001b[0mchunk\u001b[0m\u001b[0;34m)\u001b[0m\u001b[0;34m\u001b[0m\u001b[0m\n",
      "\u001b[0;31mIncompleteRead\u001b[0m: IncompleteRead(179762 bytes read, 293732 more expected)"
     ]
    }
   ],
   "source": [
    "s_lst = []\n",
    "for s in source_lst:\n",
    "    source = urllib.request.urlopen(s).read()\n",
    "    soup = bs.BeautifulSoup(source,'html.parser')\n",
    "    tbl_row = soup.table.find_all('tr')\n",
    "    for tr in tbl_row[1:]:\n",
    "        td = tr.find_all('td')\n",
    "        row = [i.text for i in td]\n",
    "        s_lst.append(row)\n"
   ]
  },
  {
   "cell_type": "code",
   "execution_count": null,
   "metadata": {
    "collapsed": true
   },
   "outputs": [],
   "source": [
    "for i,row in enumerate(s_lst):\n",
    "    if len(row) == 4:\n",
    "        s_lst[i]=[s_lst[i-1][0]] + row"
   ]
  },
  {
   "cell_type": "code",
   "execution_count": null,
   "metadata": {
    "collapsed": true
   },
   "outputs": [],
   "source": [
    "import pandas as pd"
   ]
  },
  {
   "cell_type": "code",
   "execution_count": null,
   "metadata": {
    "collapsed": true
   },
   "outputs": [],
   "source": [
    "donation = pd.DataFrame(data = s_lst, columns = ['接收单位', '品名', '规格', '计量单位', '数量'])"
   ]
  },
  {
   "cell_type": "code",
   "execution_count": null,
   "metadata": {
    "collapsed": true
   },
   "outputs": [],
   "source": [
    "protect_suit = donation[(donation['品名'].str.contains('防护服')) & (donation['品名'] != '非医用防护服')\\\n",
    "         &(donation['品名'] != '居家隔离防护服包')].copy()"
   ]
  },
  {
   "cell_type": "code",
   "execution_count": null,
   "metadata": {
    "collapsed": true
   },
   "outputs": [],
   "source": [
    "protect_suit['Tao'] = protect_suit['规格'].str.extract('(\\d+套)', expand=True)[0].str.extract('(\\d+)', expand=True)\n",
    "protect_suit['Jian'] = protect_suit['规格'].str.extract('(\\d+件)', expand=True)[0].str.extract('(\\d+)', expand=True)\n"
   ]
  },
  {
   "cell_type": "code",
   "execution_count": null,
   "metadata": {
    "collapsed": true
   },
   "outputs": [],
   "source": [
    "import numpy as np\n",
    "protect_suit['特殊单位'] = np.where(protect_suit['Tao'].notnull() == True, protect_suit['Tao'], protect_suit['Jian'])\n"
   ]
  },
  {
   "cell_type": "code",
   "execution_count": null,
   "metadata": {
    "collapsed": true
   },
   "outputs": [],
   "source": [
    "protect_suit['特殊单位'] = np.where(protect_suit['规格'] == '600PLNS \\xa0 2XL号', 100, protect_suit['特殊单位'])\n",
    "protect_suit['特殊单位'] = np.where(protect_suit['规格'] == '600PLNS \\xa0 LG号', 100, protect_suit['特殊单位'])"
   ]
  },
  {
   "cell_type": "code",
   "execution_count": null,
   "metadata": {
    "collapsed": true
   },
   "outputs": [],
   "source": [
    "protect_suit['特殊单位'] = protect_suit['特殊单位'].fillna(0).astype('int64')\n",
    "protect_suit['数量'] = protect_suit['数量'].astype('int64')"
   ]
  },
  {
   "cell_type": "code",
   "execution_count": null,
   "metadata": {
    "collapsed": true
   },
   "outputs": [],
   "source": [
    "protect_suit['接收单位类别'] = np.where(protect_suit['接收单位'].str.contains('院'), '医院', '行政')\n",
    "protect_suit['接收单位类别'] = np.where(protect_suit['接收单位'].str.contains('方舱'), '医院', protect_suit['接收单位类别'])"
   ]
  },
  {
   "cell_type": "code",
   "execution_count": null,
   "metadata": {},
   "outputs": [],
   "source": [
    "protect_suit['处理后数量'] = np.where(protect_suit['特殊单位'] == 0, protect_suit['数量'], \\\n",
    "                                 protect_suit['特殊单位']*protect_suit['数量'])\n",
    "\n",
    "protect_suit['处理后数量'] = np.where((protect_suit['接收单位类别'] == '行政')&\\\n",
    "             (protect_suit['品名'] == '防护服Plus600型')&(protect_suit['计量单位'] == '套'), \\\n",
    "                             protect_suit['处理后数量']/protect_suit['特殊单位'],\\\n",
    "                                 protect_suit['处理后数量'])\n",
    "\n",
    "protect_suit['处理后数量'] = np.where((protect_suit['品名']=='防护服')&(protect_suit['处理后数量']>10000),\\\n",
    "                                 protect_suit['处理后数量']/protect_suit['特殊单位'],\\\n",
    "                                 protect_suit['处理后数量'])\n",
    "protect_suit['处理后数量'] = np.where((protect_suit['品名']=='医用防护服')&(protect_suit['处理后数量']>10000),\\\n",
    "                                 protect_suit['处理后数量']/protect_suit['特殊单位'],\\\n",
    "                                 protect_suit['处理后数量'])"
   ]
  },
  {
   "cell_type": "code",
   "execution_count": null,
   "metadata": {},
   "outputs": [],
   "source": [
    "protect_suit.head()"
   ]
  },
  {
   "cell_type": "code",
   "execution_count": null,
   "metadata": {
    "collapsed": true
   },
   "outputs": [],
   "source": [
    "plot1 = protect_suit.groupby('接收单位类别').sum()['处理后数量'].reset_index()"
   ]
  },
  {
   "cell_type": "code",
   "execution_count": null,
   "metadata": {},
   "outputs": [],
   "source": [
    "plot2_pre = protect_suit.groupby(['接收单位类别','品名']).sum().reset_index()\n",
    "plot2 = plot2_pre[plot2_pre['接收单位类别'] == '行政']"
   ]
  },
  {
   "cell_type": "code",
   "execution_count": null,
   "metadata": {},
   "outputs": [],
   "source": [
    "import seaborn as sns\n",
    "import matplotlib.pyplot as plt\n",
    "sns.set_style(\"whitegrid\")\n",
    "sns.set(font_scale=2)\n",
    "sns.set_palette(sns.color_palette(\"Set2\"))\n",
    "plt.rcParams['font.sans-serif'] = ['SimHei']"
   ]
  },
  {
   "cell_type": "code",
   "execution_count": null,
   "metadata": {},
   "outputs": [],
   "source": [
    "g = sns.barplot(x=\"接收单位类别\", y=\"处理后数量\",data=plot1)\n",
    "g.set_title(\"防护服领取情况医院（名称中包含‘院’或方舱）\\n VS行政机构（因为没有企业）\")\n",
    "plt.show()"
   ]
  },
  {
   "cell_type": "code",
   "execution_count": null,
   "metadata": {},
   "outputs": [],
   "source": [
    "sns.set_palette(sns.color_palette(\"Set2\"))\n",
    "g2 = sns.barplot(y=\"品名\", x=\"处理后数量\",data=plot2.sort_values(by = '处理后数量',ascending=False))\n",
    "g2.set_title(\"行政领取具体by 品名\")\n",
    "plt.show()"
   ]
  },
  {
   "cell_type": "code",
   "execution_count": null,
   "metadata": {},
   "outputs": [],
   "source": [
    "protect_suit[(protect_suit['接收单位类别']=='行政') & (protect_suit['品名']=='防护服')\\\n",
    "             &(protect_suit['处理后数量']>2000)]"
   ]
  },
  {
   "cell_type": "code",
   "execution_count": null,
   "metadata": {},
   "outputs": [],
   "source": [
    "plot3 = protect_suit.groupby('接收单位').sum().sort_values(by = '处理后数量',ascending=False).reset_index().head(10)"
   ]
  },
  {
   "cell_type": "code",
   "execution_count": null,
   "metadata": {},
   "outputs": [],
   "source": [
    "g3 = sns.barplot(y=\"接收单位\", x=\"处理后数量\",data=plot3)\n",
    "g3.set_title(\"领取防护服最多的单位\")\n",
    "plt.show()"
   ]
  },
  {
   "cell_type": "code",
   "execution_count": null,
   "metadata": {
    "collapsed": true
   },
   "outputs": [],
   "source": [
    "plt.clf()"
   ]
  }
 ],
 "metadata": {
  "kernelspec": {
   "display_name": "Python 3",
   "language": "python",
   "name": "python3"
  },
  "language_info": {
   "codemirror_mode": {
    "name": "ipython",
    "version": 3
   },
   "file_extension": ".py",
   "mimetype": "text/x-python",
   "name": "python",
   "nbconvert_exporter": "python",
   "pygments_lexer": "ipython3",
   "version": "3.5.3"
  }
 },
 "nbformat": 4,
 "nbformat_minor": 2
}
